{
 "cells": [
  {
   "cell_type": "code",
   "execution_count": 9,
   "metadata": {},
   "outputs": [
    {
     "name": "stdout",
     "output_type": "stream",
     "text": [
      "You see an apple seller\n",
      "buy 2kg of apples\n"
     ]
    }
   ],
   "source": [
    "print('You see an apple seller') #if condition\n",
    "q=input('do you like apple ?')\n",
    "if q== 'yes':\n",
    "    print('buy 2kg of apples')\n",
    "if q== 'no':\n",
    "    print('You dont purchase apples')"
   ]
  },
  {
   "cell_type": "code",
   "execution_count": 12,
   "metadata": {},
   "outputs": [
    {
     "name": "stdout",
     "output_type": "stream",
     "text": [
      "x is greater than 5\n",
      "This is the info we needed\n",
      "with this power, comes great responsibility\n",
      "The End\n"
     ]
    }
   ],
   "source": [
    "x=10                #if condition\n",
    "if x >5:\n",
    "    print('x is greater than 5')\n",
    "    print('This is the info we needed')\n",
    "    print('with this power, comes great responsibility')\n",
    "print('The End')"
   ]
  },
  {
   "cell_type": "code",
   "execution_count": 19,
   "metadata": {},
   "outputs": [
    {
     "name": "stdout",
     "output_type": "stream",
     "text": [
      "wear shorts\n",
      "Get some exercise outside\n"
     ]
    }
   ],
   "source": [
    "temp= float(input('what is the temperature')) #if else condition\n",
    "if temp>70:\n",
    "    print('wear shorts')\n",
    "else:\n",
    "    print('wear long pants')\n",
    "print('Get some exercise outside')"
   ]
  },
  {
   "cell_type": "code",
   "execution_count": 23,
   "metadata": {},
   "outputs": [
    {
     "name": "stdout",
     "output_type": "stream",
     "text": [
      "A\n"
     ]
    }
   ],
   "source": [
    "score = int(input('Your score'))  #elif statement\n",
    "if score >=90:\n",
    "    letter = 'A'\n",
    "elif score >=80:\n",
    "    letter = 'B'\n",
    "elif score >70:\n",
    "    letter = 'C'\n",
    "elif score >=60:\n",
    "    letter = 'D'\n",
    "else:\n",
    "    letter = 'F'\n",
    "print(letter)"
   ]
  },
  {
   "cell_type": "code",
   "execution_count": 34,
   "metadata": {},
   "outputs": [
    {
     "name": "stdout",
     "output_type": "stream",
     "text": [
      "42\n",
      "Brown\n"
     ]
    }
   ],
   "source": [
    "#One-Liner Alternative 1:\n",
    "if 42 in range(100): print(\"42\")\n",
    "\n",
    "#One-Liner Alternative 2:\n",
    "print('Yellow') if \"y\" in \"Orange\" else print(\"Brown\")\n",
    "\n",
    "#one-Liner Alternative 3:\n"
   ]
  },
  {
   "cell_type": "code",
   "execution_count": null,
   "metadata": {},
   "outputs": [],
   "source": []
  }
 ],
 "metadata": {
  "interpreter": {
   "hash": "e6619e7d8a0359f6794c78967a3a77122d32ef46b260f68ae2db5414bb5d513e"
  },
  "kernelspec": {
   "display_name": "Python 3.9.5 64-bit ('base': conda)",
   "language": "python",
   "name": "python3"
  },
  "language_info": {
   "codemirror_mode": {
    "name": "ipython",
    "version": 3
   },
   "file_extension": ".py",
   "mimetype": "text/x-python",
   "name": "python",
   "nbconvert_exporter": "python",
   "pygments_lexer": "ipython3",
   "version": "3.9.5"
  },
  "orig_nbformat": 4
 },
 "nbformat": 4,
 "nbformat_minor": 2
}
