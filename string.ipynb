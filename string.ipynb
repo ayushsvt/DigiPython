{
 "cells": [
  {
   "cell_type": "code",
   "execution_count": 1,
   "metadata": {},
   "outputs": [
    {
     "name": "stdout",
     "output_type": "stream",
     "text": [
      "Apple\n",
      "<class 'str'>\n"
     ]
    }
   ],
   "source": [
    "a = \"Apple\"\n",
    "print(a)\n",
    "print(type(a))"
   ]
  },
  {
   "cell_type": "code",
   "execution_count": 2,
   "metadata": {},
   "outputs": [
    {
     "name": "stdout",
     "output_type": "stream",
     "text": [
      "Banana\n",
      "<class 'str'>\n"
     ]
    }
   ],
   "source": [
    "b = 'Banana'\n",
    "print(b)\n",
    "print(type(b))"
   ]
  },
  {
   "cell_type": "markdown",
   "metadata": {},
   "source": [
    "#### String -> What you need to know\n",
    "- Indexing and Slicing\n",
    "- Functions"
   ]
  },
  {
   "cell_type": "code",
   "execution_count": 3,
   "metadata": {},
   "outputs": [
    {
     "name": "stdout",
     "output_type": "stream",
     "text": [
      "str=  digipodium\n",
      "str[0]= d\n",
      "str[1] i\n",
      "str[-1] m\n",
      "str[-2] u\n"
     ]
    }
   ],
   "source": [
    "#Accessing string characters in python\n",
    "str='digipodium'\n",
    "print('str= ',str)\n",
    "#first character\n",
    "print('str[0]=',str[0])\n",
    "#second character\n",
    "print('str[1]',str[1])\n",
    "#last character\n",
    "print('str[-1]',str[-1])\n",
    "#seconf last character\n",
    "print('str[-2]',str[-2])\n",
    "\n",
    "\n"
   ]
  },
  {
   "cell_type": "code",
   "execution_count": 4,
   "metadata": {},
   "outputs": [
    {
     "name": "stdout",
     "output_type": "stream",
     "text": [
      " Sriv\n",
      "stav\n"
     ]
    }
   ],
   "source": [
    "#Geting a Slice -> if name is a string an expression of the form name[m:n]returns the portion of s starting with position m,and upto but not including n.\n",
    "name = \"Ayush Srivastava\"\n",
    "slice1=name[5:10]\n",
    "slice2=name[-5:-1]\n",
    "print(slice1)\n",
    "print(slice2)"
   ]
  },
  {
   "cell_type": "code",
   "execution_count": 5,
   "metadata": {},
   "outputs": [
    {
     "name": "stdout",
     "output_type": "stream",
     "text": [
      "digi\n",
      "digi\n",
      "podium\n",
      "podium\n"
     ]
    }
   ],
   "source": [
    "#                                s[m:n] and s[:n] are same\n",
    "s='digipodium'\n",
    "slice1=s[0:4]\n",
    "slice2=s[:4]\n",
    "print(slice1)\n",
    "print(slice2)\n",
    "#                                s[n:] and s[n:len(s)] are same\n",
    "slice3=s[4:len(s)]\n",
    "slice4=s[4:]\n",
    "print(slice3)\n",
    "print(slice4)"
   ]
  },
  {
   "cell_type": "code",
   "execution_count": 6,
   "metadata": {},
   "outputs": [
    {
     "data": {
      "text/plain": [
       "'ys rvsaa'"
      ]
     },
     "execution_count": 6,
     "metadata": {},
     "output_type": "execute_result"
    }
   ],
   "source": [
    "name[:] # 0-> end\n",
    "name[::-1] #reverse\n",
    "name[::2] #even indexes values\n",
    "name[1::2] #odd indexex values"
   ]
  },
  {
   "cell_type": "markdown",
   "metadata": {},
   "source": [
    "####  Builting Function-"
   ]
  },
  {
   "cell_type": "code",
   "execution_count": 7,
   "metadata": {},
   "outputs": [
    {
     "name": "stdout",
     "output_type": "stream",
     "text": [
      "A\n",
      "ऽ\n",
      "き\n"
     ]
    }
   ],
   "source": [
    "#                    chr()- convert integer into string character.\n",
    "x = chr(65)\n",
    "print(x)\n",
    "x=chr(2365)\n",
    "print(x)\n",
    "x=chr(12365)\n",
    "print(x)"
   ]
  },
  {
   "cell_type": "code",
   "execution_count": 8,
   "metadata": {},
   "outputs": [
    {
     "name": "stdout",
     "output_type": "stream",
     "text": [
      "65\n"
     ]
    }
   ],
   "source": [
    "#                     ord()- convert string character into integer.\n",
    "y=ord('A')\n",
    "print(y)\n"
   ]
  },
  {
   "cell_type": "code",
   "execution_count": 9,
   "metadata": {},
   "outputs": [
    {
     "name": "stdout",
     "output_type": "stream",
     "text": [
      "7\n",
      "5\n",
      "4\n"
     ]
    }
   ],
   "source": [
    "#                   len() returns length of string.\n",
    "print(len(\"amazing\"))\n",
    "print(len(\"world\"))\n",
    "size = len(\"hope\")\n",
    "print(size)"
   ]
  },
  {
   "cell_type": "code",
   "execution_count": 10,
   "metadata": {},
   "outputs": [
    {
     "name": "stdout",
     "output_type": "stream",
     "text": [
      "wikipedia\n"
     ]
    },
    {
     "data": {
      "text/plain": [
       "'wikipedia'"
      ]
     },
     "execution_count": 10,
     "metadata": {},
     "output_type": "execute_result"
    }
   ],
   "source": [
    "w1='wikinews'\n",
    "w2='enycylopedia'\n",
    "slice1=w1[:-4]\n",
    "slice2=w2[-5:]\n",
    "print(slice1+slice2)\n",
    "w1[:4] +w2[-5:] #-> Easy Way"
   ]
  },
  {
   "cell_type": "markdown",
   "metadata": {},
   "source": [
    "Syntax\n",
    "...\n",
    "string.method_name([])\n",
    "...\n",
    "##### String Function\n",
    "- Formatting\n",
    "   - upper"
   ]
  },
  {
   "cell_type": "code",
   "execution_count": 18,
   "metadata": {},
   "outputs": [],
   "source": [
    "quote = \"Life before death,Hope before despair,Journey before destination\"\n"
   ]
  },
  {
   "cell_type": "code",
   "execution_count": 12,
   "metadata": {},
   "outputs": [
    {
     "name": "stdout",
     "output_type": "stream",
     "text": [
      "thi      is (       fsjh{}\n"
     ]
    }
   ],
   "source": [
    "junk_str = \"thi@#$%$ is^(&*^&%^%fsjh{}\"\n",
    "punc='!@#$%^&*'\n",
    "for char in punc:\n",
    "    junk_str= junk_str.replace(char,' ')\n",
    "print(junk_str)"
   ]
  },
  {
   "cell_type": "code",
   "execution_count": 13,
   "metadata": {},
   "outputs": [
    {
     "name": "stdout",
     "output_type": "stream",
     "text": [
      "original- Life before death,Hope before despair,Journey before destination\n",
      "No vowel- Lf bfr dth,Hp bfr dspr,Jrny bfr dstntn\n"
     ]
    }
   ],
   "source": [
    "q = quote\n",
    "for vowel in \"aeiouAEIOU\":\n",
    "    q=q.replace(vowel,'')\n",
    "print('original-',quote)\n",
    "print('No vowel-',q)\n"
   ]
  },
  {
   "cell_type": "code",
   "execution_count": null,
   "metadata": {},
   "outputs": [],
   "source": [
    "from string import ascii_lowercase\n",
    "for letter in ascii_lowercase:\n",
    "    print(f\"{letter} -> {quote.lower().count(letter)}\")"
   ]
  },
  {
   "cell_type": "code",
   "execution_count": null,
   "metadata": {},
   "outputs": [],
   "source": [
    "from string import ascii_lowercase\n",
    "for letter in ascii_lowercase:\n",
    "    occur = quote.lower().count(letter)\n",
    "    if occur:\n",
    "     print(f\"{letter} -> {occur}\")"
   ]
  },
  {
   "cell_type": "code",
   "execution_count": 16,
   "metadata": {},
   "outputs": [
    {
     "name": "stdout",
     "output_type": "stream",
     "text": [
      "7\n"
     ]
    }
   ],
   "source": [
    "res=len(quote.split())\n",
    "print(res)"
   ]
  },
  {
   "cell_type": "code",
   "execution_count": 17,
   "metadata": {},
   "outputs": [],
   "source": [
    "qu = quote.upper()"
   ]
  },
  {
   "cell_type": "code",
   "execution_count": 19,
   "metadata": {},
   "outputs": [
    {
     "data": {
      "text/plain": [
       "'LIFE BEFORE DEATH,HOPE BEFORE DESPAIR,JOURNEY BEFORE DESTINATION'"
      ]
     },
     "execution_count": 19,
     "metadata": {},
     "output_type": "execute_result"
    }
   ],
   "source": [
    "qu"
   ]
  },
  {
   "cell_type": "code",
   "execution_count": 21,
   "metadata": {},
   "outputs": [
    {
     "data": {
      "text/plain": [
       "'lIFE BEFORE DEATH,hOPE BEFORE DESPAIR,jOURNEY BEFORE DESTINATION'"
      ]
     },
     "execution_count": 21,
     "metadata": {},
     "output_type": "execute_result"
    }
   ],
   "source": [
    "quote.swapcase()"
   ]
  },
  {
   "cell_type": "markdown",
   "metadata": {},
   "source": [
    "#### WAP to take user input and check the date,if the data is numeric,convert it to number else if the data is alphanumeric then extract only numbers and convert it\n"
   ]
  },
  {
   "cell_type": "code",
   "execution_count": 42,
   "metadata": {},
   "outputs": [
    {
     "name": "stdout",
     "output_type": "stream",
     "text": [
      "data is only alphabets\n"
     ]
    }
   ],
   "source": [
    "data =(input(\"Please,Enter some data:-\"))\n",
    "if data.isnumeric():\n",
    "    num = int(data)\n",
    "    print(\"data converted to number:\",num)\n",
    "elif data.isalnum():\n",
    "        temp = ''\n",
    "        for char in data:\n",
    "            if char.isnumeric():\n",
    "             temp +=char\n",
    "        if temp:\n",
    "         num= int(temp)\n",
    "         print(\"data converted to number\",num)\n",
    "        else:\n",
    "            print(\"data is only alphabets\")\n",
    "else:\n",
    "    print('data is weird')\n"
   ]
  },
  {
   "cell_type": "code",
   "execution_count": 45,
   "metadata": {},
   "outputs": [
    {
     "name": "stdout",
     "output_type": "stream",
     "text": [
      "here is a boring calculater\n",
      "1. Add Numbers\n",
      "2. Subtract numbers\n",
      "3. Multiply number\n",
      "Sum is:- 110\n"
     ]
    }
   ],
   "source": [
    "print(\"Here is a boring calculater\")\n",
    "print(\"1. Add Numbers\")\n",
    "print(\"2. Subtract numbers\")\n",
    "print(\"3. Multiply number\")\n",
    "ch= input(\"Please,enter your choice:\")\n",
    "if ch =='1':\n",
    "    num1 = int(input(\"Enter first Number:\"))\n",
    "    num2 = int(input(\"Enter Second Number:\"))\n",
    "    print(\"Sum is:-\",num1+num2)\n",
    "elif ch == '2':\n",
    "    num1 = int(input(\"Enter first Number:\"))\n",
    "    num2 = int(input(\"Enter Second Number:\"))\n",
    "    print(\"Difference is:-\",num1-num2)\n",
    "elif ch == '3':\n",
    "    num1 = int(input(\"Enter first Number:\"))\n",
    "    num2 = int(input(\"Enter Second Number:\"))\n",
    "    print(\"Producr is:-\",num1*num2)\n",
    "else:\n",
    "    print(\"ekjf\")\n"
   ]
  },
  {
   "cell_type": "code",
   "execution_count": null,
   "metadata": {},
   "outputs": [],
   "source": []
  }
 ],
 "metadata": {
  "interpreter": {
   "hash": "e6619e7d8a0359f6794c78967a3a77122d32ef46b260f68ae2db5414bb5d513e"
  },
  "kernelspec": {
   "display_name": "Python 3.9.5 ('base')",
   "language": "python",
   "name": "python3"
  },
  "language_info": {
   "codemirror_mode": {
    "name": "ipython",
    "version": 3
   },
   "file_extension": ".py",
   "mimetype": "text/x-python",
   "name": "python",
   "nbconvert_exporter": "python",
   "pygments_lexer": "ipython3",
   "version": "3.9.5"
  },
  "orig_nbformat": 4
 },
 "nbformat": 4,
 "nbformat_minor": 2
}
