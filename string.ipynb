{
 "cells": [
  {
   "cell_type": "code",
   "execution_count": 2,
   "metadata": {},
   "outputs": [
    {
     "name": "stdout",
     "output_type": "stream",
     "text": [
      "Apple\n",
      "<class 'str'>\n"
     ]
    }
   ],
   "source": [
    "a = \"Apple\"\n",
    "print(a)\n",
    "print(type(a))"
   ]
  },
  {
   "cell_type": "code",
   "execution_count": 3,
   "metadata": {},
   "outputs": [
    {
     "name": "stdout",
     "output_type": "stream",
     "text": [
      "Banana\n",
      "<class 'str'>\n"
     ]
    }
   ],
   "source": [
    "b = 'Banana'\n",
    "print(b)\n",
    "print(type(b))"
   ]
  },
  {
   "cell_type": "markdown",
   "metadata": {},
   "source": [
    "#### String -> What you need to know\n",
    "- Indexing and Slicing\n",
    "- Functions"
   ]
  },
  {
   "cell_type": "code",
   "execution_count": 8,
   "metadata": {},
   "outputs": [
    {
     "name": "stdout",
     "output_type": "stream",
     "text": [
      "str=  digipodium\n",
      "str[0]= d\n",
      "str[1] i\n",
      "str[-1] m\n",
      "str[-2] u\n"
     ]
    }
   ],
   "source": [
    "#Accessing string characters in python\n",
    "str='digipodium'\n",
    "print('str= ',str)\n",
    "#first character\n",
    "print('str[0]=',str[0])\n",
    "#second character\n",
    "print('str[1]',str[1])\n",
    "#last character\n",
    "print('str[-1]',str[-1])\n",
    "#seconf last character\n",
    "print('str[-2]',str[-2])\n",
    "\n",
    "\n"
   ]
  },
  {
   "cell_type": "code",
   "execution_count": 15,
   "metadata": {},
   "outputs": [
    {
     "name": "stdout",
     "output_type": "stream",
     "text": [
      " Sriv\n",
      "stav\n"
     ]
    }
   ],
   "source": [
    "#Geting a Slice -> if name is a string an expression of the form name[m:n]returns the portion of s starting with position m,and upto but not including n.\n",
    "name = \"Ayush Srivastava\"\n",
    "slice1=name[5:10]\n",
    "slice2=name[-5:-1]\n",
    "print(slice1)\n",
    "print(slice2)"
   ]
  },
  {
   "cell_type": "code",
   "execution_count": 17,
   "metadata": {},
   "outputs": [
    {
     "name": "stdout",
     "output_type": "stream",
     "text": [
      "digi\n",
      "digi\n",
      "podium\n",
      "podium\n"
     ]
    }
   ],
   "source": [
    "#                                s[m:n] and s[:n] are same\n",
    "s='digipodium'\n",
    "slice1=s[0:4]\n",
    "slice2=s[:4]\n",
    "print(slice1)\n",
    "print(slice2)\n",
    "#                                s[n:] and s[n:len(s)] are same\n",
    "slice3=s[4:len(s)]\n",
    "slice4=s[4:]\n",
    "print(slice3)\n",
    "print(slice4)"
   ]
  },
  {
   "cell_type": "code",
   "execution_count": 27,
   "metadata": {},
   "outputs": [
    {
     "data": {
      "text/plain": [
       "'ys rvsaa'"
      ]
     },
     "execution_count": 27,
     "metadata": {},
     "output_type": "execute_result"
    }
   ],
   "source": [
    "name[:] # 0-> end\n",
    "name[::-1] #reverse\n",
    "name[::2] #even indexes values\n",
    "name[1::2] #odd indexex values"
   ]
  },
  {
   "cell_type": "markdown",
   "metadata": {},
   "source": [
    "####  Builting Function-"
   ]
  },
  {
   "cell_type": "code",
   "execution_count": 20,
   "metadata": {},
   "outputs": [
    {
     "name": "stdout",
     "output_type": "stream",
     "text": [
      "A\n",
      "ऽ\n",
      "き\n"
     ]
    }
   ],
   "source": [
    "#                    chr()- convert integer into string character.\n",
    "x = chr(65)\n",
    "print(x)\n",
    "x=chr(2365)\n",
    "print(x)\n",
    "x=chr(12365)\n",
    "print(x)"
   ]
  },
  {
   "cell_type": "code",
   "execution_count": null,
   "metadata": {},
   "outputs": [],
   "source": [
    "#                     ord()- convert string character into integer.\n",
    "y=ord('A')\n",
    "print(y)\n"
   ]
  },
  {
   "cell_type": "code",
   "execution_count": 23,
   "metadata": {},
   "outputs": [
    {
     "name": "stdout",
     "output_type": "stream",
     "text": [
      "7\n",
      "5\n",
      "4\n"
     ]
    }
   ],
   "source": [
    "#                   len() returns length of string.\n",
    "print(len(\"amazing\"))\n",
    "print(len(\"world\"))\n",
    "size = len(\"hope\")\n",
    "print(size)"
   ]
  },
  {
   "cell_type": "code",
   "execution_count": null,
   "metadata": {},
   "outputs": [],
   "source": []
  }
 ],
 "metadata": {
  "interpreter": {
   "hash": "e6619e7d8a0359f6794c78967a3a77122d32ef46b260f68ae2db5414bb5d513e"
  },
  "kernelspec": {
   "display_name": "Python 3.9.5 ('base')",
   "language": "python",
   "name": "python3"
  },
  "language_info": {
   "codemirror_mode": {
    "name": "ipython",
    "version": 3
   },
   "file_extension": ".py",
   "mimetype": "text/x-python",
   "name": "python",
   "nbconvert_exporter": "python",
   "pygments_lexer": "ipython3",
   "version": "3.9.5"
  },
  "orig_nbformat": 4
 },
 "nbformat": 4,
 "nbformat_minor": 2
}
