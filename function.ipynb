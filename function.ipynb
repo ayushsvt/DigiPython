{
 "cells": [
  {
   "cell_type": "code",
   "execution_count": 2,
   "metadata": {},
   "outputs": [],
   "source": [
    "def check():\n",
    "    print('This is a simple function')"
   ]
  },
  {
   "cell_type": "code",
   "execution_count": 3,
   "metadata": {},
   "outputs": [
    {
     "name": "stdout",
     "output_type": "stream",
     "text": [
      "This is a simple function\n"
     ]
    }
   ],
   "source": [
    "check()"
   ]
  },
  {
   "cell_type": "code",
   "execution_count": 6,
   "metadata": {},
   "outputs": [],
   "source": [
    "def divide(a, b):\n",
    "    ans = a/b\n",
    "    print(ans)"
   ]
  },
  {
   "cell_type": "code",
   "execution_count": 11,
   "metadata": {},
   "outputs": [
    {
     "name": "stdout",
     "output_type": "stream",
     "text": [
      "1.6666666666666667\n"
     ]
    }
   ],
   "source": [
    "divide(10,6)"
   ]
  },
  {
   "cell_type": "code",
   "execution_count": 12,
   "metadata": {},
   "outputs": [],
   "source": [
    "def update_salary(old_salary):\n",
    "    new_salary= old_salary + old_salary * .08\n",
    "    print(f\"{old_salary}->{new_salary}\")\n",
    "def remove_hra(salary):\n",
    "    new_salary = salary - salary * .05\n",
    "    print(f\"{salary}->{new_salary}\")"
   ]
  },
  {
   "cell_type": "code",
   "execution_count": 13,
   "metadata": {},
   "outputs": [
    {
     "name": "stdout",
     "output_type": "stream",
     "text": [
      "10000->10800.0\n",
      "10800->10260.0\n"
     ]
    }
   ],
   "source": [
    "update_salary(10000)\n",
    "remove_hra(10800)"
   ]
  },
  {
   "cell_type": "code",
   "execution_count": 16,
   "metadata": {},
   "outputs": [],
   "source": [
    "def update_salary(old_salary):\n",
    "    new_salary= old_salary + old_salary * .08\n",
    "    return new_salary\n",
    "def remove_hra(salary):\n",
    "    new_salary = salary - salary * .05\n",
    "    return new_salary"
   ]
  },
  {
   "cell_type": "code",
   "execution_count": 19,
   "metadata": {},
   "outputs": [
    {
     "name": "stdout",
     "output_type": "stream",
     "text": [
      "16200.0\n"
     ]
    },
    {
     "data": {
      "text/plain": [
       "9500.0"
      ]
     },
     "execution_count": 19,
     "metadata": {},
     "output_type": "execute_result"
    }
   ],
   "source": [
    "print(update_salary(15000))\n",
    "remove_hra(10000)"
   ]
  },
  {
   "cell_type": "code",
   "execution_count": 20,
   "metadata": {},
   "outputs": [
    {
     "name": "stdout",
     "output_type": "stream",
     "text": [
      "21600.0\n"
     ]
    }
   ],
   "source": [
    "salary= update_salary(20000)\n",
    "print(salary)"
   ]
  },
  {
   "cell_type": "code",
   "execution_count": 21,
   "metadata": {},
   "outputs": [
    {
     "data": {
      "text/plain": [
       "15390.0"
      ]
     },
     "execution_count": 21,
     "metadata": {},
     "output_type": "execute_result"
    }
   ],
   "source": [
    "remove_hra(update_salary(15000))"
   ]
  },
  {
   "cell_type": "code",
   "execution_count": 14,
   "metadata": {},
   "outputs": [],
   "source": [
    "def total(a,b,c,d,e):\n",
    "    ans=a+b+c+d+e\n",
    "    print(ans)"
   ]
  },
  {
   "cell_type": "code",
   "execution_count": 15,
   "metadata": {},
   "outputs": [
    {
     "name": "stdout",
     "output_type": "stream",
     "text": [
      "15\n"
     ]
    }
   ],
   "source": [
    "total(1,2,3,4,5)"
   ]
  },
  {
   "cell_type": "markdown",
   "metadata": {},
   "source": [
    "- WAF to return true or false, if a number is even or not.\n",
    "- WAF to remove all vowel from a sentance given in a function.\n",
    "- WAF to return the second highest value from a list given as parameter."
   ]
  },
  {
   "cell_type": "code",
   "execution_count": 17,
   "metadata": {},
   "outputs": [
    {
     "data": {
      "text/plain": [
       "True"
      ]
     },
     "execution_count": 17,
     "metadata": {},
     "output_type": "execute_result"
    }
   ],
   "source": [
    "# WAF to return true or false, if a number is even or not.\n",
    "def evenodd(a):\n",
    "    if a%2==0:\n",
    "        return(True)\n",
    "    else:\n",
    "        return(False)\n",
    "evenodd(66)    \n",
    "\n"
   ]
  },
  {
   "cell_type": "code",
   "execution_count": 1,
   "metadata": {},
   "outputs": [
    {
     "data": {
      "text/plain": [
       "'ysh '"
      ]
     },
     "execution_count": 1,
     "metadata": {},
     "output_type": "execute_result"
    }
   ],
   "source": [
    "# WAF to remove all vowel from a sentance given in a function.\n",
    "def removevowel(text):\n",
    "    junk='aeiouAEIOU'\n",
    "    for i in junk:\n",
    "     text=text.replace(i,'')\n",
    "    return(text)\n",
    "removevowel('Ayush ')"
   ]
  },
  {
   "cell_type": "code",
   "execution_count": 12,
   "metadata": {},
   "outputs": [
    {
     "data": {
      "text/plain": [
       "89"
      ]
     },
     "execution_count": 12,
     "metadata": {},
     "output_type": "execute_result"
    }
   ],
   "source": [
    "# WAF to return the second highest value from a list given as parameter.\n",
    "def max_2(num_list):\n",
    "    num_list.sort()\n",
    "    return num_list[-2]\n",
    "max_2([55,55,90,89,25])"
   ]
  },
  {
   "cell_type": "code",
   "execution_count": 28,
   "metadata": {},
   "outputs": [],
   "source": [
    "def eq_1(x,y,z):\n",
    "    return x**y-z*x\n"
   ]
  },
  {
   "cell_type": "code",
   "execution_count": 35,
   "metadata": {},
   "outputs": [
    {
     "name": "stdout",
     "output_type": "stream",
     "text": [
      "-2\n",
      "108\n",
      "246\n"
     ]
    }
   ],
   "source": [
    "print(eq_1(2,3,5)) #named parameter/keyword argument\n",
    "print(eq_1(x=12,y=2,z=3)) #named parameter/keyword argument\n",
    "print(eq_1(2,z=5,y=8)) #named parameter/keyword argument0\n",
    "\n"
   ]
  },
  {
   "cell_type": "code",
   "execution_count": 36,
   "metadata": {},
   "outputs": [],
   "source": [
    "def add4(x,y,z=0,z2=0):\n",
    "    return x+y+z+z2"
   ]
  },
  {
   "cell_type": "code",
   "execution_count": 39,
   "metadata": {},
   "outputs": [
    {
     "name": "stdout",
     "output_type": "stream",
     "text": [
      "10\n",
      "3\n",
      "10\n",
      "12\n"
     ]
    }
   ],
   "source": [
    "print(add4(1,2,3,4))\n",
    "print(add4(1,2,))\n",
    "print(add4(1,2,z=3,z2=4))\n",
    "print(add4(1,2,z2=5,z=4))"
   ]
  },
  {
   "cell_type": "code",
   "execution_count": 40,
   "metadata": {},
   "outputs": [],
   "source": [
    "def count_zero(*nums):\n",
    "    if len(nums)>0:\n",
    "        return nums.count(0)"
   ]
  },
  {
   "cell_type": "code",
   "execution_count": 41,
   "metadata": {},
   "outputs": [
    {
     "name": "stdout",
     "output_type": "stream",
     "text": [
      "None\n",
      "0\n",
      "4\n"
     ]
    }
   ],
   "source": [
    "print(count_zero())\n",
    "print(count_zero(1,2,3,4,5,6,7,8,9))\n",
    "print(count_zero(2,2,5,4,0,0,0,3,5,36,0))\n"
   ]
  },
  {
   "cell_type": "code",
   "execution_count": 42,
   "metadata": {},
   "outputs": [],
   "source": [
    "def adder(*args):\n",
    "    if len(args)>0:\n",
    "        return sum(args)\n",
    "    return 0"
   ]
  },
  {
   "cell_type": "code",
   "execution_count": 44,
   "metadata": {},
   "outputs": [
    {
     "name": "stdout",
     "output_type": "stream",
     "text": [
      "135\n",
      "0\n"
     ]
    }
   ],
   "source": [
    "print(adder(1,2,3,4,5,6,7,98,9))\n",
    "print(adder())"
   ]
  },
  {
   "cell_type": "code",
   "execution_count": null,
   "metadata": {},
   "outputs": [],
   "source": []
  }
 ],
 "metadata": {
  "interpreter": {
   "hash": "e6619e7d8a0359f6794c78967a3a77122d32ef46b260f68ae2db5414bb5d513e"
  },
  "kernelspec": {
   "display_name": "Python 3.9.5 ('base')",
   "language": "python",
   "name": "python3"
  },
  "language_info": {
   "codemirror_mode": {
    "name": "ipython",
    "version": 3
   },
   "file_extension": ".py",
   "mimetype": "text/x-python",
   "name": "python",
   "nbconvert_exporter": "python",
   "pygments_lexer": "ipython3",
   "version": "3.9.5"
  },
  "orig_nbformat": 4
 },
 "nbformat": 4,
 "nbformat_minor": 2
}
