{
 "cells": [
  {
   "cell_type": "code",
   "execution_count": 1,
   "metadata": {},
   "outputs": [],
   "source": [
    "x = 10\n",
    "y= 20\n",
    "z=\"Apple\"\n"
   ]
  },
  {
   "cell_type": "code",
   "execution_count": 2,
   "metadata": {},
   "outputs": [
    {
     "name": "stdout",
     "output_type": "stream",
     "text": [
      "10\n"
     ]
    }
   ],
   "source": [
    "print(x)  #Raw Output"
   ]
  },
  {
   "cell_type": "code",
   "execution_count": 3,
   "metadata": {},
   "outputs": [
    {
     "name": "stdout",
     "output_type": "stream",
     "text": [
      "20\n",
      "10 20 Apple\n"
     ]
    }
   ],
   "source": [
    "print(y)\n",
    "print(x, y, z)\n"
   ]
  },
  {
   "cell_type": "code",
   "execution_count": 4,
   "metadata": {},
   "outputs": [
    {
     "name": "stdout",
     "output_type": "stream",
     "text": [
      "Today Its Too Cold\n"
     ]
    }
   ],
   "source": [
    "print(\"Today Its Too Cold\")  #formated output"
   ]
  },
  {
   "cell_type": "code",
   "execution_count": 5,
   "metadata": {},
   "outputs": [
    {
     "name": "stdout",
     "output_type": "stream",
     "text": [
      "Apple,BANANA,Cherry,Dragonfruit\n"
     ]
    }
   ],
   "source": [
    "print(\"Apple\",'BANANA','Cherry','Dragonfruit',sep=',')  #sep=\" \" for ,/ etc"
   ]
  },
  {
   "cell_type": "markdown",
   "metadata": {},
   "source": [
    "### How to display text mixed with variables.\n",
    "- comma seperated 🟢\n",
    "- Format Specifier\n",
    "- Using + as a concatenation\n",
    "- Using format() function\n",
    "- Using f-strings (from version 3.6) 🟢"
   ]
  },
  {
   "cell_type": "code",
   "execution_count": 6,
   "metadata": {},
   "outputs": [],
   "source": [
    "lang = \"Python\"\n",
    "lc = \"Easy\"\n",
    "version = \"3.10\"\n",
    "creator = \"Guido Von Rossum\""
   ]
  },
  {
   "cell_type": "code",
   "execution_count": 7,
   "metadata": {},
   "outputs": [
    {
     "name": "stdout",
     "output_type": "stream",
     "text": [
      "Python is an Easy language created Guido Von Rossum the current version is 3.10\n"
     ]
    }
   ],
   "source": [
    "print(lang,\"is an\",lc,\"language created\",creator,\"the current version is\",version) #comma Separation"
   ]
  },
  {
   "cell_type": "code",
   "execution_count": 8,
   "metadata": {},
   "outputs": [
    {
     "name": "stdout",
     "output_type": "stream",
     "text": [
      "Python is an Easy language created by Guido Von Rossum,the current version is 3.10\n"
     ]
    }
   ],
   "source": [
    "print('%s is an %s language created by %s,the current version is %s'%(lang,lc,creator,version))  #Format Specifier"
   ]
  },
  {
   "cell_type": "code",
   "execution_count": 9,
   "metadata": {},
   "outputs": [
    {
     "name": "stdout",
     "output_type": "stream",
     "text": [
      "Python is an Easy language created by Guido Von Rossum the current version is 3.10\n"
     ]
    }
   ],
   "source": [
    "print(lang + \" is an \"+lc+\" language created by \"+creator+\" the current version is \"+version)  #Using + as a concatenation"
   ]
  },
  {
   "cell_type": "code",
   "execution_count": 10,
   "metadata": {},
   "outputs": [
    {
     "name": "stdout",
     "output_type": "stream",
     "text": [
      "Python ia an Easy language created by Guido Von Rossum,the current version is 3.10\n"
     ]
    }
   ],
   "source": [
    "print('{} ia an {} language created by {},the current version is {}'.format(lang,lc,creator,version))  #Using format() function"
   ]
  },
  {
   "cell_type": "markdown",
   "metadata": {},
   "source": [
    "#### The better way to create and print message in python is f-string introduced in version 3.6 "
   ]
  },
  {
   "cell_type": "code",
   "execution_count": 11,
   "metadata": {},
   "outputs": [
    {
     "name": "stdout",
     "output_type": "stream",
     "text": [
      "Python is an Easy language created by Guido Von Rossum,the current version is 3.10\n"
     ]
    }
   ],
   "source": [
    "print(f'{lang} is an {lc} language created by {creator},the current version is {version}')  #Using f-strings (from version 3.6)"
   ]
  },
  {
   "cell_type": "code",
   "execution_count": 12,
   "metadata": {},
   "outputs": [
    {
     "name": "stdout",
     "output_type": "stream",
     "text": [
      "Ayush 19 were given\n",
      "<class 'str'> <class 'int'>\n"
     ]
    }
   ],
   "source": [
    "name = input('Enter your name=')\n",
    "age = int(input('enter your age='))\n",
    "print(name,age, 'were given')\n",
    "print(type(name),type(age))"
   ]
  },
  {
   "cell_type": "code",
   "execution_count": 13,
   "metadata": {},
   "outputs": [
    {
     "name": "stdout",
     "output_type": "stream",
     "text": [
      "55\n"
     ]
    }
   ],
   "source": [
    "temp = int(input(\"enter temperature in degree\")) #by putting int in  \n",
    "print(temp) "
   ]
  },
  {
   "cell_type": "code",
   "execution_count": null,
   "metadata": {},
   "outputs": [],
   "source": []
  }
 ],
 "metadata": {
  "interpreter": {
   "hash": "e6619e7d8a0359f6794c78967a3a77122d32ef46b260f68ae2db5414bb5d513e"
  },
  "kernelspec": {
   "display_name": "Python 3.9.5 64-bit ('base': conda)",
   "language": "python",
   "name": "python3"
  },
  "language_info": {
   "codemirror_mode": {
    "name": "ipython",
    "version": 3
   },
   "file_extension": ".py",
   "mimetype": "text/x-python",
   "name": "python",
   "nbconvert_exporter": "python",
   "pygments_lexer": "ipython3",
   "version": "3.9.5"
  },
  "orig_nbformat": 4
 },
 "nbformat": 4,
 "nbformat_minor": 2
}
