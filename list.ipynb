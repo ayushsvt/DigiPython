{
 "cells": [
  {
   "cell_type": "markdown",
   "metadata": {},
   "source": [
    "## List\n",
    "- list is mutable (items can add,remove)\n",
    "- list is heterogenous (mixed data can stored)\n",
    "- list can have duplicate values\n",
    "- list is indexed(item have indexes and can be sliced)\n",
    "- list uses [] breckets with values inside it seperated with commas \n",
    "### what to Learn-\n",
    "- Creating a list\n",
    "- indexing and slicing\n",
    "- traversal (looping)\n",
    "- function(11)\n",
    "- comprehension\n",
    "- lamda,map and filter\n"
   ]
  },
  {
   "cell_type": "code",
   "execution_count": 1,
   "metadata": {},
   "outputs": [],
   "source": [
    "# List of strings\n",
    "name = [\"Kaladin\", \"Adolin\", 'Dalinar', 'Wit', 'Shallan', 'Navani']\n",
    "# List of Numbers\n",
    "factors = [1, 2, 3, 4, 5, 15, 25, 100]\n",
    "# Mixed data list\n",
    "info = ['Ravi',90,102,93,29,44,\"B\",False,5.786]\n",
    "# Nested List\n",
    "c2d = [[1,2,3],[3,4,5,7],[2,1]]\n",
    "# List From function\n",
    "fact = \"icecubes sits in its own blood\"\n",
    "words = fact.split()\n"
   ]
  },
  {
   "cell_type": "code",
   "execution_count": 2,
   "metadata": {},
   "outputs": [
    {
     "name": "stdout",
     "output_type": "stream",
     "text": [
      "[1, 1, 1, 1, 1, 1, 1, 1, 1, 1]\n"
     ]
    }
   ],
   "source": [
    "# quick list hack with some values-\n",
    "x=[1] * 10\n",
    "print(x)"
   ]
  },
  {
   "cell_type": "code",
   "execution_count": 3,
   "metadata": {},
   "outputs": [
    {
     "name": "stdout",
     "output_type": "stream",
     "text": [
      "[10, 'something', 9]\n"
     ]
    }
   ],
   "source": [
    "# List form variables\n",
    "a = 10\n",
    "b = 'something'\n",
    "c = 9\n",
    "l =[a,b,c]\n",
    "print(l)"
   ]
  },
  {
   "cell_type": "code",
   "execution_count": 4,
   "metadata": {},
   "outputs": [],
   "source": [
    "kharche = []       #empty list\n"
   ]
  },
  {
   "cell_type": "code",
   "execution_count": 5,
   "metadata": {},
   "outputs": [
    {
     "name": "stdout",
     "output_type": "stream",
     "text": [
      "[100]\n",
      "[100, 200]\n",
      "[100, 200, 300]\n"
     ]
    }
   ],
   "source": [
    "kharche.append(100)\n",
    "print(kharche)\n",
    "kharche.append(200)\n",
    "print(kharche)\n",
    "kharche.append(300)\n",
    "print(kharche)"
   ]
  },
  {
   "cell_type": "code",
   "execution_count": 6,
   "metadata": {},
   "outputs": [
    {
     "name": "stdout",
     "output_type": "stream",
     "text": [
      "['pizza', 'burger', 'chilli pototo']\n"
     ]
    }
   ],
   "source": [
    "fav_foods = []\n",
    "for i in range(3):\n",
    "    food = input(\"Enter name of your fav food->\")\n",
    "    fav_foods.append(food)\n",
    "print(fav_foods)\n"
   ]
  },
  {
   "cell_type": "code",
   "execution_count": 7,
   "metadata": {},
   "outputs": [
    {
     "name": "stdout",
     "output_type": "stream",
     "text": [
      "[1, 2, 3, 4, 5, 6, 7, 8, 9, 10, 11, 12, 13, 14, 15, 16, 17, 18, 19, 20, 21, 22, 23, 24, 25, 26, 27, 28, 29, 30, 31, 32, 33, 34, 35, 36, 37, 38, 39, 40, 41, 42, 43, 44, 45, 46, 47, 48, 49, 50, 51, 52, 53, 54, 55, 56, 57, 58, 59, 60, 61, 62, 63, 64, 65, 66, 67, 68, 69, 70, 71, 72, 73, 74, 75, 76, 77, 78, 79, 80, 81, 82, 83, 84, 85, 86, 87, 88, 89, 90, 91, 92, 93, 94, 95, 96, 97, 98, 99, 100]\n"
     ]
    }
   ],
   "source": [
    "nums = []\n",
    "for i in range(1,101):\n",
    "    nums.append(i)\n",
    "print(nums)"
   ]
  },
  {
   "cell_type": "markdown",
   "metadata": {},
   "source": [
    "#### Functions:-\n",
    "- Adding items\n",
    "   - Append\n",
    "   - insert\n",
    "   - extend\n",
    "- Delete items \n",
    "   - Remove\n",
    "   - Pop\n",
    "   - Clear\n",
    "- Utility Function\n",
    "   - Reverse\n",
    "   - sort\n",
    "   - Count\n",
    "   - Index\n",
    "   - Copy"
   ]
  },
  {
   "cell_type": "code",
   "execution_count": 1,
   "metadata": {},
   "outputs": [
    {
     "data": {
      "text/plain": [
       "['apple', 'Banana', 'Cherry', 'Guava']"
      ]
     },
     "execution_count": 1,
     "metadata": {},
     "output_type": "execute_result"
    }
   ],
   "source": [
    "fruits = []\n",
    "fruits.append(\"apple\")\n",
    "fruits.append(\"Banana\")\n",
    "fruits.append(\"Cherry\")\n",
    "fruits.append(\"Guava\")\n",
    "fruits"
   ]
  },
  {
   "cell_type": "code",
   "execution_count": 7,
   "metadata": {},
   "outputs": [
    {
     "data": {
      "text/plain": [
       "['apple',\n",
       " 'Avocado',\n",
       " 'Banana',\n",
       " 'Cherry',\n",
       " 'fig',\n",
       " 'fig',\n",
       " 'fig',\n",
       " 'fig',\n",
       " 'fig',\n",
       " 'Guava']"
      ]
     },
     "execution_count": 7,
     "metadata": {},
     "output_type": "execute_result"
    }
   ],
   "source": [
    "fruits.insert(1,'Avocado')\n",
    "fruits"
   ]
  },
  {
   "cell_type": "code",
   "execution_count": 8,
   "metadata": {},
   "outputs": [
    {
     "data": {
      "text/plain": [
       "['apple',\n",
       " 'Avocado',\n",
       " 'Banana',\n",
       " 'Cherry',\n",
       " 'fig',\n",
       " 'fig',\n",
       " 'fig',\n",
       " 'fig',\n",
       " 'fig',\n",
       " 'Guava',\n",
       " 'rotten Apple']"
      ]
     },
     "execution_count": 8,
     "metadata": {},
     "output_type": "execute_result"
    }
   ],
   "source": [
    "fruits.insert(100,'rotten Apple')    #>- index glt hai esliye ye last m show hoga..\n",
    "fruits"
   ]
  },
  {
   "cell_type": "code",
   "execution_count": 9,
   "metadata": {},
   "outputs": [
    {
     "data": {
      "text/plain": [
       "['Almond', 'cashew', 'walnut']"
      ]
     },
     "execution_count": 9,
     "metadata": {},
     "output_type": "execute_result"
    }
   ],
   "source": [
    "dry_fruits = ['Almond','cashew','walnut']\n",
    "dry_fruits"
   ]
  },
  {
   "cell_type": "code",
   "execution_count": 10,
   "metadata": {},
   "outputs": [
    {
     "data": {
      "text/plain": [
       "['apple',\n",
       " 'Avocado',\n",
       " 'Banana',\n",
       " 'Cherry',\n",
       " 'fig',\n",
       " 'fig',\n",
       " 'fig',\n",
       " 'fig',\n",
       " 'fig',\n",
       " 'Guava',\n",
       " 'rotten Apple',\n",
       " 'Almond',\n",
       " 'cashew',\n",
       " 'walnut']"
      ]
     },
     "execution_count": 10,
     "metadata": {},
     "output_type": "execute_result"
    }
   ],
   "source": [
    "fruits.extend(dry_fruits)    #:- Extend is used when we want to add 2 Lists.\n",
    "fruits"
   ]
  },
  {
   "cell_type": "code",
   "execution_count": 19,
   "metadata": {},
   "outputs": [
    {
     "data": {
      "text/plain": [
       "10"
      ]
     },
     "execution_count": 19,
     "metadata": {},
     "output_type": "execute_result"
    }
   ],
   "source": [
    "len(fruits)"
   ]
  },
  {
   "cell_type": "code",
   "execution_count": 18,
   "metadata": {},
   "outputs": [
    {
     "name": "stdout",
     "output_type": "stream",
     "text": [
      "No rotten Apple found\n"
     ]
    }
   ],
   "source": [
    "if 'rotten Apple' in fruits:\n",
    "    fruits.remove('rotten Apple')\n",
    "    print(fruits)\n",
    "else:\n",
    "    print('No rotten Apple found')"
   ]
  },
  {
   "cell_type": "markdown",
   "metadata": {},
   "source": [
    "### Pop can be used in two ways:-\n",
    "- list.pop() -> Remove the last value in the list and gives us that value.\n",
    "- list.pop(idx) -> remove the value from index if idx is valid and gives the value."
   ]
  },
  {
   "cell_type": "code",
   "execution_count": 20,
   "metadata": {},
   "outputs": [
    {
     "name": "stdout",
     "output_type": "stream",
     "text": [
      "removed_value=> walnut\n",
      "list=> ['apple', 'Avocado', 'Banana', 'Cherry', 'fig', 'fig', 'Guava', 'Almond', 'cashew']\n"
     ]
    }
   ],
   "source": [
    "v = fruits.pop()\n",
    "print('removed_value=>',v)\n",
    "print('list=>',fruits)"
   ]
  },
  {
   "cell_type": "code",
   "execution_count": 21,
   "metadata": {},
   "outputs": [
    {
     "name": "stdout",
     "output_type": "stream",
     "text": [
      "removed_value=> Cherry\n",
      "list=> ['apple', 'Avocado', 'Banana', 'fig', 'fig', 'Guava', 'Almond', 'cashew']\n"
     ]
    }
   ],
   "source": [
    "v = fruits.pop(3)   # Remove from index.\n",
    "print('removed_value=>',v)\n",
    "print('list=>',fruits)"
   ]
  },
  {
   "cell_type": "code",
   "execution_count": 22,
   "metadata": {},
   "outputs": [
    {
     "data": {
      "text/plain": [
       "[]"
      ]
     },
     "execution_count": 22,
     "metadata": {},
     "output_type": "execute_result"
    }
   ],
   "source": [
    "fruits.clear()\n",
    "fruits"
   ]
  },
  {
   "cell_type": "code",
   "execution_count": 23,
   "metadata": {},
   "outputs": [],
   "source": [
    "movies = [\n",
    "    'Ghostbusters:  Afterlife',\n",
    "    'Spider-Man: No way home',\n",
    "    \"Shang-chi\",\n",
    "    'The last duel',\n",
    "    'Venom :Let There be Carnage',\n",
    "    'Free Guy',\n",
    "    'Jungle Cruise',\n",
    "    'Mortal kombat',\n",
    "    'the Sucide Squad'\n",
    "]"
   ]
  },
  {
   "cell_type": "code",
   "execution_count": 24,
   "metadata": {},
   "outputs": [
    {
     "name": "stdout",
     "output_type": "stream",
     "text": [
      "normal\n",
      " ['Ghostbusters:  Afterlife', 'Spider-Man: No way home', 'Shang-chi', 'The last duel', 'Venom :Let There be Carnage', 'Free Guy', 'Jungle Cruise', 'Mortal kombat', 'the Sucide Squad']\n",
      "reverse\n",
      " ['the Sucide Squad', 'Mortal kombat', 'Jungle Cruise', 'Free Guy', 'Venom :Let There be Carnage', 'The last duel', 'Shang-chi', 'Spider-Man: No way home', 'Ghostbusters:  Afterlife']\n"
     ]
    }
   ],
   "source": [
    "print(\"normal\\n\",movies)\n",
    "movies.reverse()\n",
    "print(\"reverse\\n\",movies)"
   ]
  },
  {
   "cell_type": "code",
   "execution_count": 25,
   "metadata": {},
   "outputs": [
    {
     "name": "stdout",
     "output_type": "stream",
     "text": [
      "['Free Guy', 'Ghostbusters:  Afterlife', 'Jungle Cruise', 'Mortal kombat', 'Shang-chi', 'Spider-Man: No way home', 'The last duel', 'Venom :Let There be Carnage', 'the Sucide Squad']\n"
     ]
    }
   ],
   "source": [
    "movies.sort()\n",
    "print(movies)"
   ]
  },
  {
   "cell_type": "code",
   "execution_count": 26,
   "metadata": {},
   "outputs": [
    {
     "name": "stdout",
     "output_type": "stream",
     "text": [
      "['the Sucide Squad', 'Venom :Let There be Carnage', 'The last duel', 'Spider-Man: No way home', 'Shang-chi', 'Mortal kombat', 'Jungle Cruise', 'Ghostbusters:  Afterlife', 'Free Guy']\n"
     ]
    }
   ],
   "source": [
    "movies.sort(reverse=True)\n",
    "print(movies)"
   ]
  },
  {
   "cell_type": "code",
   "execution_count": 27,
   "metadata": {},
   "outputs": [
    {
     "name": "stdout",
     "output_type": "stream",
     "text": [
      "['the Sucide Squad', 'Venom :Let There be Carnage', 'The last duel', 'Spider-Man: No way home', 'Shang-chi', 'Mortal kombat', 'Jungle Cruise', 'Ghostbusters:  Afterlife', 'Free Guy']\n"
     ]
    }
   ],
   "source": [
    "dup_mov = movies.copy()\n",
    "print(dup_mov)"
   ]
  },
  {
   "cell_type": "code",
   "execution_count": 28,
   "metadata": {},
   "outputs": [
    {
     "data": {
      "text/plain": [
       "8"
      ]
     },
     "execution_count": 28,
     "metadata": {},
     "output_type": "execute_result"
    }
   ],
   "source": [
    "movies.index('Free Guy')"
   ]
  },
  {
   "cell_type": "code",
   "execution_count": 33,
   "metadata": {},
   "outputs": [],
   "source": [
    "x = [1,2,3,4,5,6,1,1,1,5,6,45,1,1,2,2,2,2,2,3,3,3,3,3,3,3,3,4,4,5,5,1,1,]"
   ]
  },
  {
   "cell_type": "code",
   "execution_count": 30,
   "metadata": {},
   "outputs": [
    {
     "data": {
      "text/plain": [
       "5"
      ]
     },
     "execution_count": 30,
     "metadata": {},
     "output_type": "execute_result"
    }
   ],
   "source": [
    "x.count(1)\n"
   ]
  },
  {
   "cell_type": "code",
   "execution_count": 31,
   "metadata": {},
   "outputs": [
    {
     "data": {
      "text/plain": [
       "6"
      ]
     },
     "execution_count": 31,
     "metadata": {},
     "output_type": "execute_result"
    }
   ],
   "source": [
    "x.count(2)\n"
   ]
  },
  {
   "cell_type": "code",
   "execution_count": 34,
   "metadata": {},
   "outputs": [
    {
     "data": {
      "text/plain": [
       "9"
      ]
     },
     "execution_count": 34,
     "metadata": {},
     "output_type": "execute_result"
    }
   ],
   "source": [
    "x.count(3)"
   ]
  },
  {
   "cell_type": "markdown",
   "metadata": {},
   "source": [
    "### WAP to enter 15 number in list, then print the sum,min,max,mean of that list."
   ]
  },
  {
   "cell_type": "code",
   "execution_count": 2,
   "metadata": {},
   "outputs": [
    {
     "name": "stdout",
     "output_type": "stream",
     "text": [
      "sum of value= 75\n",
      "min of value= 5\n",
      "max of value= 5\n",
      "Mean of value= 5.0\n"
     ]
    }
   ],
   "source": [
    "nums=[]\n",
    "for i in range(15):\n",
    "    val = int(input(f'enter {i+1} number:'))\n",
    "    nums.append(val)\n",
    "\n",
    "print(\"sum of value=\", sum(nums))\n",
    "print(\"min of value=\", min(nums))\n",
    "print(\"max of value=\", max(nums))\n",
    "print(\"Mean of value=\", sum(nums)/len(nums))"
   ]
  },
  {
   "cell_type": "code",
   "execution_count": null,
   "metadata": {},
   "outputs": [],
   "source": []
  }
 ],
 "metadata": {
  "interpreter": {
   "hash": "e6619e7d8a0359f6794c78967a3a77122d32ef46b260f68ae2db5414bb5d513e"
  },
  "kernelspec": {
   "display_name": "Python 3.9.5 ('base')",
   "language": "python",
   "name": "python3"
  },
  "language_info": {
   "codemirror_mode": {
    "name": "ipython",
    "version": 3
   },
   "file_extension": ".py",
   "mimetype": "text/x-python",
   "name": "python",
   "nbconvert_exporter": "python",
   "pygments_lexer": "ipython3",
   "version": "3.9.5"
  },
  "orig_nbformat": 4
 },
 "nbformat": 4,
 "nbformat_minor": 2
}
